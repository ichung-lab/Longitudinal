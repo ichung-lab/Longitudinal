{
  "nbformat": 4,
  "nbformat_minor": 0,
  "metadata": {
    "colab": {
      "provenance": []
    },
    "kernelspec": {
      "name": "python3",
      "display_name": "Python 3"
    },
    "language_info": {
      "name": "python"
    }
  },
  "cells": [
    {
      "cell_type": "code",
      "source": [
        "from scipy.stats import fisher_exact\n",
        "from scipy.stats import norm\n",
        "import scipy\n",
        "import numpy as np"
      ],
      "metadata": {
        "id": "CXXU8yBcw3Qv"
      },
      "execution_count": null,
      "outputs": []
    },
    {
      "cell_type": "code",
      "source": [
        "def remove_na_vals(ls1, ls2): # only keep the intersection of two lists without \"n/a\" values\n",
        "  new_ls1 = []\n",
        "  new_ls2 = []\n",
        "  for i in range(len(ls1)):\n",
        "    if(ls1[i] != \"n/a\" and ls2[i] != \"n/a\"):\n",
        "      new_ls1.append(ls1[i])\n",
        "      new_ls2.append(ls2[i])\n",
        "  return new_ls1, new_ls2"
      ],
      "metadata": {
        "id": "9HDnq6EXrojO"
      },
      "execution_count": null,
      "outputs": []
    },
    {
      "cell_type": "code",
      "source": [
        "def perform_fisher_test(ls1, ls2):\n",
        "  new_ls1, new_ls2 = remove_na_vals(ls1, ls2)\n",
        "\n",
        "  # set up 2x2 contingency table\n",
        "  top_left  = 0 # new_ls1 = 1 AND new_ls2 = 1\n",
        "  top_right = 0 # new_ls1 = 1 AND new_ls2 = 0\n",
        "  bot_left  = 0 # new_ls1 = 0 AND new_ls2 = 1\n",
        "  bot_right = 0 # new_ls1 = 0 AND new_ls2 = 0\n",
        "\n",
        "  for i in range(len(new_ls1)):\n",
        "    if(new_ls1[i] == 1 and new_ls2[i] == 1): top_left += 1\n",
        "    if(new_ls1[i] == 1 and new_ls2[i] == 0): top_right += 1\n",
        "    if(new_ls1[i] == 0 and new_ls2[i] == 1): bot_left += 1\n",
        "    if(new_ls1[i] == 0 and new_ls2[i] == 0): bot_right += 1\n",
        "\n",
        "  print(f'{new_ls1}')\n",
        "  print(f'{new_ls2}')\n",
        "  print()\n",
        "\n",
        "  print(f'{top_left} {top_right}')\n",
        "  print(f'{bot_left} {bot_right}')\n",
        "  print(f'Sum: {len(new_ls1)}')\n",
        "\n",
        "  contingency_tbl = np.array([[top_left, top_right],\n",
        "                              [bot_left, bot_right]])\n",
        "\n",
        "  # perform Fisher's Exact Test\n",
        "  fisher_odds_ratio, p_value = fisher_exact(contingency_tbl)\n",
        "\n",
        "  # perform 95% confidence interval (using Woolf logit method)\n",
        "  a, b, c, d = contingency_tbl.flatten()\n",
        "  log_odds_ratio = np.log((a * d) / (b * c))\n",
        "  se_log_odds_ratio = np.sqrt(1/a + 1/b + 1/c + 1/d)\n",
        "\n",
        "  alpha = 0.05\n",
        "  z_crit = norm.ppf(1 - alpha / 2)\n",
        "\n",
        "  lower_log_ci = log_odds_ratio - z_crit * se_log_odds_ratio\n",
        "  upper_log_ci = log_odds_ratio + z_crit * se_log_odds_ratio\n",
        "\n",
        "  lower_odds_ratio_ci = np.exp(lower_log_ci)\n",
        "  upper_odds_ratio_ci = np.exp(upper_log_ci)\n",
        "\n",
        "  confidence_interval = [lower_odds_ratio_ci, upper_odds_ratio_ci]\n",
        "\n",
        "  return fisher_odds_ratio, p_value, confidence_interval"
      ],
      "metadata": {
        "id": "3uEYg7aPsSkf"
      },
      "execution_count": null,
      "outputs": []
    },
    {
      "cell_type": "code",
      "execution_count": null,
      "metadata": {
        "id": "dPGxC_zRfuD6"
      },
      "outputs": [],
      "source": [
        "# progressed (y/n), PM TRPV4 (+/-), HG (y/n), PR (+/-), cardiovascular disease (y/n), smoking (y/n), metabolic disease (y/n)\n",
        "prog = [1, 1, 1, 1, 1, 1, 1, 1, 1, 1, 1, 1, 1, 1, 1, 1, 1, 1, 1, 1, 1, 1, 1, 1, 0, 0, 0, 0, 0, 0, 0, 0, 0, 0, 0, 0, 0, 0, 0, 0, 0, 0, 0, 0]\n",
        "trpv4 = [1, 1, 1, 1, 1, 0, 1, 1, 1, 1, 1, 1, 1, 1, 1, 1, 1, 1, 1, 1, 1, 1, 0, 1, 1, 0, 0, 0, 1, 1, 1, 0, 0, 1, 1, 1, 0, 1, 1, 0, 1, 1, 1, 1]\n",
        "hgis1 = [1, 0, 0, 0, 1, 0, 0, 0, 0, 1, 1, 1, 0, 0, 0, 1, 0, 0, 1, 0, 0, 1, 0, 0, 1, 1, 0, 0, 0, 1, 0, 0, 0, 1, 0, 1, 0, 1, 1, 0, 1, 1, 1, 0]\n",
        "hgorimgis1 = [1, 1, 1, 0, 1, 0, 1, 1, 0, 1, 1, 1, 0, 1, 1, 1, 1, 1, 1, 1, 0, 1, 0, 0, 1, 1, 1, 1, 1, 1, 0, 0, 1, 1, 0, 1, 1, 1, 1, 0, 1, 1, 1, 0]\n",
        "er = [1, 1, 1, 0, \"n/a\", 1, 0, 1, 1, 1, 1, 1, 1, 1, 1, 0, 1, 1, 1, 1, 1, 1, 1, 1, 1, 1, 1, 1, 1, 1, \"n/a\", 1, 1, 0, 1, 1, 1, 0, 0, 1, 1, 0, 1, 1]\n",
        "neg_er = [0, 0, 0, 1, \"n/a\", 0, 1, 0, 0, 0, 0, 0, 0, 0, 0, 1, 0, 0, 0, 0, 0, 0, 0, 0, 0, 0, 0, 0, 0, 0, \"n/a\", 0, 0, 1, 0, 0, 0, 1, 1, 0, 0, 1, 0, 0]\n",
        "card_disease = [1, 1, 0, 1, 1, 0, 1, 1, 1, 1, 0, 1, 1, 1, 0, 0, 0, 1, 0, 1, 0, 1, 1, 1, 0, 1, 1, 1, 1, 1, 1, 0, 0, 0, 1, 1, 0, 1, 0, 1, 1, 0, 0, 1]\n",
        "smoking = [1, 0, 0, 1, 1, 0, 1, 0, 1, 0, 1, 1, 0, 1, 0, 1, 0, 0, 0, 0, 0, 1, 0, 0, 0, 1, 1, 1, 0, 1, 0, 1, 0, 0, 0, 1, 1, 0, 0, 0, 1, 0, 1, 0]\n",
        "meta_disease = [0, 1, 0, 1, 0, 0, 1, 0, 1, 0, 0, 1, 0, 0, 0, 0, 0, 0, 1, 1, 0, 0, 1, 1, 0, 0, 1, 0, 0, 0, 0, 0, 1, 1, 0, 1, 0, 0, 0, 1, 0, 1, 0, 0]\n",
        "time = [2166, 1032, 3627, 5429, 1786, 1024, 3429, 4675, 3296, 2612, 4321, 2737, 3835, 1133, 2597, 2283, 1518, 750, 505, 1524, 1636, 726, 1394, 146, 2327, 4822, 4698, 4418, 4440, 2634, 4145, 4030, 3982, 3841, 2798, 3720, 4045, 3380, 3373, 3267, 2986, 2490, 2408, 2040]"
      ]
    },
    {
      "cell_type": "code",
      "source": [
        "# PROGRESSED only\n",
        "yes_prog = [1, 1, 1, 1, 1, 1, 1, 1, 1, 1, 1, 1, 1, 1, 1, 1, 1, 1, 1, 1, 1, 1, 1, 1]\n",
        "yes_trpv4 = [1, 1, 1, 1, 1, 0, 1, 1, 1, 1, 1, 1, 1, 1, 1, 1, 1, 1, 1, 1, 1, 1, 0, 1]\n",
        "yes_hgis1 = [1, 0, 0, 0, 1, 0, 0, 0, 0, 1, 1, 1, 0, 0, 0, 1, 0, 0, 1, 0, 0, 1, 0, 0]\n",
        "yes_hgorimgis1 = [1, 1, 1, 0, 1, 0, 1, 1, 0, 1, 1, 1, 0, 1, 1, 1, 1, 1, 1, 1, 0, 1, 0, 0]\n",
        "yes_neg_er = [0, 0, 0, 1, \"n/a\", 0, 1, 0, 0, 0, 0, 0, 0, 0, 0, 1, 0, 0, 0, 0, 0, 0, 0, 0]\n",
        "yes_card_disease = [1, 1, 0, 1, 1, 0, 1, 1, 1, 1, 0, 1, 1, 1, 0, 0, 0, 1, 0, 1, 0, 1, 1, 1]\n",
        "yes_smoking = [1, 0, 0, 1, 1, 0, 1, 0, 1, 0, 1, 1, 0, 1, 0, 1, 0, 0, 0, 0, 0, 1, 0, 0]\n",
        "yes_meta_disease = [0, 1, 0, 1, 0, 0, 1, 0, 1, 0, 0, 1, 0, 0, 0, 0, 0, 0, 1, 1, 0, 0, 1, 1]\n",
        "yes_time = [2166, 1032, 3627, 5429, 1786, 1024, 3429, 4675, 3296, 2612, 4321, 2737, 3835, 1133, 2597, 2283, 1518, 750, 505, 1524, 1636, 726, 1394, 146]"
      ],
      "metadata": {
        "id": "azAhqleTAkSh"
      },
      "execution_count": null,
      "outputs": []
    },
    {
      "cell_type": "code",
      "source": [
        "# NOT PROGRESSED (5 YEAR FOLLOW UP) only\n",
        "no_prog = [0, 0, 0, 0, 0, 0, 0, 0, 0, 0, 0, 0, 0, 0, 0, 0, 0, 0, 0, 0]\n",
        "no_trpv4 = [1, 0, 0, 0, 1, 1, 1, 0, 0, 1, 1, 1, 0, 1, 1, 0, 1, 1, 1, 1]\n",
        "no_hgis1 = [1, 1, 0, 0, 0, 1, 0, 0, 0, 1, 0, 1, 0, 1, 1, 0, 1, 1, 1, 0]\n",
        "no_hgorimgis1 = [1, 1, 1, 1, 1, 1, 0, 0, 1, 1, 0, 1, 1, 1, 1, 0, 1, 1, 1, 0]\n",
        "no_neg_er = [0, 0, 0, 0, 0, 0, \"n/a\", 0, 0, 1, 0, 0, 0, 1, 1, 0, 0, 1, 0, 0]\n",
        "no_card_disease = [0, 1, 1, 1, 1, 1, 1, 0, 0, 0, 1, 1, 0, 1, 0, 1, 1, 0, 0, 1]\n",
        "no_smoking = [0, 1, 1, 1, 0, 1, 0, 1, 0, 0, 0, 1, 1, 0, 0, 0, 1, 0, 1, 0]\n",
        "no_meta_disease = [0, 0, 1, 0, 0, 0, 0, 0, 1, 1, 0, 1, 0, 0, 0, 1, 0, 1, 0, 0]\n",
        "no_time = [2327, 4822, 4698, 4418, 4440, 2634, 4145, 4030, 3982, 3841, 2798, 3720, 4045, 3380, 3373, 3267, 2986, 2490, 2408, 2040]"
      ],
      "metadata": {
        "id": "Jp1zO8CdBUwj"
      },
      "execution_count": null,
      "outputs": []
    },
    {
      "cell_type": "code",
      "source": [
        "yes_lump_alone = [0,0,0,0,0,0,0,0,1,0,1,1,1,0,0,0,0,0,0,0,0,1,0,0,1,0,0,0,0,0,0,0,0,0,0]\n",
        "no_lump_alone = [0,1,0,0,1,0,0,0,1]\n",
        "yes_lump_other = [1,1,1,1,1,1,1,1,0,1,0,0,0,1,1,1,1,1,1,0,1,0,1,1,0,1,1,1,1,1,1,1,1,1,1]\n",
        "no_lump_other = [1,0,1,1,0,1,1,1,0]\n",
        "lump_other = [1,1,1,1,1,1,1,1,1,0,1,0,0,0,1,1,1,1,1,1,0,1,0,0,1,1,1,0,1,0,1,1,1,1,1,1,1,1,1,0,1,1,1,1]\n",
        "yes_trpv4_alone = [1] * 35\n",
        "no_trpv4_alone = [0] * 9"
      ],
      "metadata": {
        "id": "aZpsP8fchQoZ"
      },
      "execution_count": null,
      "outputs": []
    },
    {
      "cell_type": "code",
      "source": [
        "fisher_odds_ratio, p_value, confidence_interval = perform_fisher_test(prog, meta_disease)\n",
        "print()\n",
        "print(f'Odds Ratio: {fisher_odds_ratio}')\n",
        "print(f'Confidence Interval: {confidence_interval}') # 95% confidence interval\n",
        "print(f'P-Value: {p_value}')"
      ],
      "metadata": {
        "id": "mv6ugiYPtLMZ"
      },
      "execution_count": null,
      "outputs": []
    },
    {
      "cell_type": "code",
      "source": [
        "# binary num: represents positive/negative, yes/no, etc... (ex: ER negative would be 0 while ER positive would be 1)\n",
        "def find_cnt_and_pct(ls, binary_num):\n",
        "  subset_cnt = ls.count(binary_num)\n",
        "  total_cnt = len(ls)\n",
        "\n",
        "  cnt = f'{subset_cnt}/{total_cnt}'\n",
        "  pct = (subset_cnt / total_cnt) * 100\n",
        "\n",
        "  return cnt, pct"
      ],
      "metadata": {
        "id": "9vRUfttEVKiC"
      },
      "execution_count": null,
      "outputs": []
    },
    {
      "cell_type": "code",
      "source": [
        "# print(f'# Prog: {len(yes_prog)}')\n",
        "# print(f'# Non-Prog: {len(no_prog)}')\n",
        "print()\n",
        "print(find_cnt_and_pct(no_meta_disease, 1))"
      ],
      "metadata": {
        "id": "Kq8ZGE4OUkd_"
      },
      "execution_count": null,
      "outputs": []
    }
  ]
}